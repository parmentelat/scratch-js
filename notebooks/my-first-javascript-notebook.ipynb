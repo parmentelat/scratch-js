{
 "cells": [
  {
   "cell_type": "markdown",
   "metadata": {},
   "source": [
    "<div class=\"licence\">\n",
    "<span>Licence CC BY-NC-ND</span>\n",
    "</div>"
   ]
  },
  {
   "cell_type": "markdown",
   "metadata": {},
   "source": [
    "Hey folks"
   ]
  },
  {
   "cell_type": "code",
   "execution_count": null,
   "metadata": {},
   "outputs": [],
   "source": [
    "\"use strict\";"
   ]
  },
  {
   "cell_type": "code",
   "execution_count": null,
   "metadata": {},
   "outputs": [],
   "source": [
    "console.log(`Hello world`)"
   ]
  },
  {
   "cell_type": "code",
   "execution_count": null,
   "metadata": {},
   "outputs": [],
   "source": [
    "print = console.log"
   ]
  },
  {
   "cell_type": "code",
   "execution_count": null,
   "metadata": {},
   "outputs": [],
   "source": [
    "print(\"hello world\")"
   ]
  },
  {
   "cell_type": "code",
   "execution_count": null,
   "metadata": {},
   "outputs": [],
   "source": [
    "10 * 200"
   ]
  },
  {
   "cell_type": "code",
   "execution_count": null,
   "metadata": {},
   "outputs": [],
   "source": [
    "// it's best to declare a variable only once\n",
    "let whom = \"world\";"
   ]
  },
  {
   "cell_type": "code",
   "execution_count": null,
   "metadata": {},
   "outputs": [],
   "source": [
    "whom = \"world\";\n",
    "print(`hello ${whom}`)"
   ]
  },
  {
   "cell_type": "code",
   "execution_count": null,
   "metadata": {},
   "outputs": [],
   "source": [
    "function fact(n){\n",
    "    if (n<=1)\n",
    "        return 1\n",
    "    return n*fact(n-1);\n",
    "}\n"
   ]
  },
  {
   "cell_type": "code",
   "execution_count": null,
   "metadata": {},
   "outputs": [],
   "source": [
    "fact(123)"
   ]
  },
  {
   "cell_type": "code",
   "execution_count": null,
   "metadata": {},
   "outputs": [],
   "source": [
    "[1,2,3].forEach(x => print(x))"
   ]
  },
  {
   "cell_type": "code",
   "execution_count": null,
   "metadata": {},
   "outputs": [],
   "source": [
    "// c'est comme de faire\n",
    "[1,2,3].forEach(function(x) {print(x);})"
   ]
  },
  {
   "cell_type": "markdown",
   "metadata": {},
   "source": [
    "### figures"
   ]
  },
  {
   "cell_type": "markdown",
   "metadata": {},
   "source": [
    "from [issue # 186](https://github.com/n-riesco/ijavascript/issues/186) on the ijavascript git repo, I tried these 2 snippets as is; I could not get the second one to fly at all despite having `npm install`'ed corresponding package"
   ]
  },
  {
   "cell_type": "code",
   "execution_count": null,
   "metadata": {},
   "outputs": [],
   "source": [
    "Plotly = require(\"ijavascript-plotly\");\n",
    "Plotly([{y: [10, 30, 20]}], {title: \"Plotly from IJavascript\"})"
   ]
  },
  {
   "cell_type": "code",
   "execution_count": null,
   "metadata": {},
   "outputs": [],
   "source": [
    "var Plot = require('plotly-notebook-js');\n",
    "var NotebookPlot = Plot.createPlot().constructor;\n",
    "NotebookPlot.prototype._toHtml = NotebookPlot.prototype.render;\n",
    "Plot.createPlot([{ x: [1,2,3], y: [3,4,5] }], { title: 'Plotly in Jupyter!' });\n"
   ]
  },
  {
   "cell_type": "markdown",
   "metadata": {},
   "source": [
    "### Visualizing JS objects"
   ]
  },
  {
   "cell_type": "code",
   "execution_count": null,
   "metadata": {},
   "outputs": [],
   "source": [
    "$$.json({a: {b:1}})"
   ]
  },
  {
   "cell_type": "code",
   "execution_count": null,
   "metadata": {},
   "outputs": [],
   "source": [
    "my_funny_variable = 10;"
   ]
  },
  {
   "cell_type": "code",
   "execution_count": null,
   "metadata": {},
   "outputs": [],
   "source": [
    "my_funny_variable"
   ]
  },
  {
   "cell_type": "markdown",
   "metadata": {},
   "source": [
    "### back to graphics"
   ]
  },
  {
   "cell_type": "code",
   "execution_count": null,
   "metadata": {},
   "outputs": [],
   "source": [
    "var fs = require('fs');\n",
    "var d3 = require('d3');\n",
    "var jsdom = require('jsdom');\n",
    "var { JSDOM } = jsdom;\n",
    "\n",
    "var document = new JSDOM(\"<html><body></body></html>\");\n",
    "var svg = d3.select(document.window.document.body).append(\"svg\");\n",
    "\n",
    "svg.append(\"rect\")\n",
    "    .attr(\"width\", 80)\n",
    "    .attr(\"height\", 80)\n",
    "    .style(\"fill\", \"orange\");\n",
    "\n",
    "$$.svg(\"<svg>\" + svg.html() + \"</svg>\");\n"
   ]
  },
  {
   "cell_type": "markdown",
   "metadata": {},
   "source": [
    "# padding"
   ]
  }
 ],
 "metadata": {
  "kernelspec": {
   "display_name": "Javascript (Node.js)",
   "language": "javascript",
   "name": "javascript"
  },
  "language_info": {
   "file_extension": ".js",
   "mimetype": "application/javascript",
   "name": "javascript",
   "version": "10.6.0"
  },
  "notebookname": "hello world",
  "version": "1.0"
 },
 "nbformat": 4,
 "nbformat_minor": 2
}
